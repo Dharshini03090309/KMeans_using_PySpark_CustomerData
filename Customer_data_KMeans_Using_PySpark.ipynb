{
  "nbformat": 4,
  "nbformat_minor": 0,
  "metadata": {
    "colab": {
      "provenance": []
    },
    "kernelspec": {
      "name": "python3",
      "display_name": "Python 3"
    },
    "language_info": {
      "name": "python"
    }
  },
  "cells": [
    {
      "cell_type": "code",
      "execution_count": null,
      "metadata": {
        "colab": {
          "base_uri": "https://localhost:8080/",
          "height": 219
        },
        "id": "DRYsTzaIXZTk",
        "outputId": "5f0c2233-4605-4878-b601-0dcf8ffd6f2f"
      },
      "outputs": [
        {
          "output_type": "execute_result",
          "data": {
            "text/plain": [
              "<pyspark.sql.session.SparkSession at 0x7f37d6031c90>"
            ],
            "text/html": [
              "\n",
              "            <div>\n",
              "                <p><b>SparkSession - in-memory</b></p>\n",
              "                \n",
              "        <div>\n",
              "            <p><b>SparkContext</b></p>\n",
              "\n",
              "            <p><a href=\"http://d13bdf8cedd1:4040\">Spark UI</a></p>\n",
              "\n",
              "            <dl>\n",
              "              <dt>Version</dt>\n",
              "                <dd><code>v3.5.1</code></dd>\n",
              "              <dt>Master</dt>\n",
              "                <dd><code>local[*]</code></dd>\n",
              "              <dt>AppName</dt>\n",
              "                <dd><code>p2</code></dd>\n",
              "            </dl>\n",
              "        </div>\n",
              "        \n",
              "            </div>\n",
              "        "
            ]
          },
          "metadata": {},
          "execution_count": 1
        }
      ],
      "source": [
        "from pyspark.sql import SparkSession\n",
        "spark=SparkSession.builder.appName('p2').getOrCreate()\n",
        "spark"
      ]
    },
    {
      "cell_type": "code",
      "source": [
        "data=spark.read.csv('/content/customer_data - customer_data.csv',header=True,inferSchema=True)\n",
        "data"
      ],
      "metadata": {
        "colab": {
          "base_uri": "https://localhost:8080/"
        },
        "id": "332X5jE9Y9lx",
        "outputId": "71d07327-bf57-47ec-c3b6-a73971bc29e8"
      },
      "execution_count": null,
      "outputs": [
        {
          "output_type": "execute_result",
          "data": {
            "text/plain": [
              "DataFrame[CustomerID: int, Age: int, Annual_Income: int, Spending_Score: int]"
            ]
          },
          "metadata": {},
          "execution_count": 3
        }
      ]
    },
    {
      "cell_type": "code",
      "source": [
        "data.show(3)"
      ],
      "metadata": {
        "colab": {
          "base_uri": "https://localhost:8080/"
        },
        "id": "h_W4CIkZZZh_",
        "outputId": "1ecc1c22-cfb1-4b2a-c677-294eb8767f37"
      },
      "execution_count": null,
      "outputs": [
        {
          "output_type": "stream",
          "name": "stdout",
          "text": [
            "+----------+---+-------------+--------------+\n",
            "|CustomerID|Age|Annual_Income|Spending_Score|\n",
            "+----------+---+-------------+--------------+\n",
            "|         1| 19|        15000|            39|\n",
            "|         2| 21|        18000|            81|\n",
            "|         3| 20|        19000|             6|\n",
            "+----------+---+-------------+--------------+\n",
            "only showing top 3 rows\n",
            "\n"
          ]
        }
      ]
    },
    {
      "cell_type": "code",
      "source": [
        "data.printSchema()"
      ],
      "metadata": {
        "colab": {
          "base_uri": "https://localhost:8080/"
        },
        "id": "J8uSshq2ZcvG",
        "outputId": "d7360a2d-96af-41f3-f172-81e3b8988d42"
      },
      "execution_count": null,
      "outputs": [
        {
          "output_type": "stream",
          "name": "stdout",
          "text": [
            "root\n",
            " |-- CustomerID: integer (nullable = true)\n",
            " |-- Age: integer (nullable = true)\n",
            " |-- Annual_Income: integer (nullable = true)\n",
            " |-- Spending_Score: integer (nullable = true)\n",
            "\n"
          ]
        }
      ]
    },
    {
      "cell_type": "code",
      "source": [
        "data=data.dropna()\n",
        "data.show()"
      ],
      "metadata": {
        "colab": {
          "base_uri": "https://localhost:8080/"
        },
        "id": "cTisUoKoZfKS",
        "outputId": "a4002f1f-09b9-494a-f8fb-7dea05622cc6"
      },
      "execution_count": null,
      "outputs": [
        {
          "output_type": "stream",
          "name": "stdout",
          "text": [
            "+----------+---+-------------+--------------+\n",
            "|CustomerID|Age|Annual_Income|Spending_Score|\n",
            "+----------+---+-------------+--------------+\n",
            "|         1| 19|        15000|            39|\n",
            "|         2| 21|        18000|            81|\n",
            "|         3| 20|        19000|             6|\n",
            "|         4| 23|        22000|            77|\n",
            "|         5| 31|        25000|            40|\n",
            "|         6| 22|        17000|            76|\n",
            "|         7| 35|        20000|            94|\n",
            "|         8| 40|        27000|             3|\n",
            "|         9| 23|        29000|            72|\n",
            "|        10| 28|        30000|            14|\n",
            "+----------+---+-------------+--------------+\n",
            "\n"
          ]
        }
      ]
    },
    {
      "cell_type": "code",
      "source": [
        "features=[\"Age\",\"Annual_Income\",\"Spending_Score\"]\n",
        "from pyspark.ml.feature import VectorAssembler\n",
        "assembler=VectorAssembler(inputCols=features,outputCol=\"features\")\n",
        "final_data=assembler.transform(data)\n",
        "final_data"
      ],
      "metadata": {
        "colab": {
          "base_uri": "https://localhost:8080/"
        },
        "id": "geZMDEYkZoZZ",
        "outputId": "c7b9f707-69b1-4072-ed00-560f02f9d9b7"
      },
      "execution_count": null,
      "outputs": [
        {
          "output_type": "execute_result",
          "data": {
            "text/plain": [
              "DataFrame[CustomerID: int, Age: int, Annual_Income: int, Spending_Score: int, features: vector]"
            ]
          },
          "metadata": {},
          "execution_count": 9
        }
      ]
    },
    {
      "cell_type": "code",
      "source": [
        "from pyspark.ml.clustering import KMeans\n",
        "kmeans=KMeans(k=3,seed=1,featuresCol=\"features\",predictionCol=\"cluster\")\n",
        "model=kmeans.fit(final_data)\n",
        "model"
      ],
      "metadata": {
        "colab": {
          "base_uri": "https://localhost:8080/"
        },
        "id": "Z15ZnkgIaLhe",
        "outputId": "3bb2a850-5e8a-459e-ff92-426ada0e7daf"
      },
      "execution_count": null,
      "outputs": [
        {
          "output_type": "execute_result",
          "data": {
            "text/plain": [
              "KMeansModel: uid=KMeans_98b3929ecd92, k=3, distanceMeasure=euclidean, numFeatures=3"
            ]
          },
          "metadata": {},
          "execution_count": 15
        }
      ]
    },
    {
      "cell_type": "code",
      "source": [
        "model.summary.trainingCost"
      ],
      "metadata": {
        "colab": {
          "base_uri": "https://localhost:8080/"
        },
        "id": "K9RLsVmSfpn3",
        "outputId": "ed0a2d90-0021-4910-98da-e94493ca8bca"
      },
      "execution_count": null,
      "outputs": [
        {
          "output_type": "execute_result",
          "data": {
            "text/plain": [
              "32008063.666666664"
            ]
          },
          "metadata": {},
          "execution_count": 17
        }
      ]
    },
    {
      "cell_type": "code",
      "source": [
        "model.clusterCenters()"
      ],
      "metadata": {
        "id": "aza8YHEMlnl6",
        "outputId": "14b1440e-52af-47cf-f174-84d5f4570616",
        "colab": {
          "base_uri": "https://localhost:8080/"
        }
      },
      "execution_count": null,
      "outputs": [
        {
          "output_type": "execute_result",
          "data": {
            "text/plain": [
              "[array([   23.33333333, 18500.        ,    62.16666667]),\n",
              " array([2.55e+01, 2.95e+04, 4.30e+01]),\n",
              " array([3.55e+01, 2.60e+04, 2.15e+01])]"
            ]
          },
          "metadata": {},
          "execution_count": 21
        }
      ]
    },
    {
      "cell_type": "code",
      "source": [
        "pred=model.transform(final_data)\n",
        "pred.select(\"Age\",\"Annual_Income\",\"Spending_Score\",\"cluster\").show()"
      ],
      "metadata": {
        "colab": {
          "base_uri": "https://localhost:8080/"
        },
        "id": "sfgGHYxVbcan",
        "outputId": "d0d357a2-f9b8-467e-94e8-d67cbccbc1c4"
      },
      "execution_count": null,
      "outputs": [
        {
          "output_type": "stream",
          "name": "stdout",
          "text": [
            "+---+-------------+--------------+-------+\n",
            "|Age|Annual_Income|Spending_Score|cluster|\n",
            "+---+-------------+--------------+-------+\n",
            "| 19|        15000|            39|      0|\n",
            "| 21|        18000|            81|      0|\n",
            "| 20|        19000|             6|      0|\n",
            "| 23|        22000|            77|      0|\n",
            "| 31|        25000|            40|      2|\n",
            "| 22|        17000|            76|      0|\n",
            "| 35|        20000|            94|      0|\n",
            "| 40|        27000|             3|      2|\n",
            "| 23|        29000|            72|      1|\n",
            "| 28|        30000|            14|      1|\n",
            "+---+-------------+--------------+-------+\n",
            "\n"
          ]
        }
      ]
    },
    {
      "cell_type": "code",
      "source": [
        "pandas_df=pred.select(\"Annual_Income\",\"Spending_Score\",\"cluster\").toPandas()\n",
        "pandas_df\n",
        "import matplotlib.pyplot as plt\n",
        "import seaborn as sns\n",
        "sns.scatterplot(data=pandas_df,x=\"Annual_Income\",y=\"Spending_Score\",hue='cluster',palette='viridis')\n",
        "plt.title('Clusters')\n",
        "plt.show()"
      ],
      "metadata": {
        "colab": {
          "base_uri": "https://localhost:8080/",
          "height": 472
        },
        "id": "cSMl6xfef5xO",
        "outputId": "57b729dc-ca68-4124-aa9f-38e0fb18d586"
      },
      "execution_count": null,
      "outputs": [
        {
          "output_type": "display_data",
          "data": {
            "text/plain": [
              "<Figure size 640x480 with 1 Axes>"
            ],
            "image/png": "[encoded data removed]"
          },
          "metadata": {}
        }
      ]
    }
  ]
}